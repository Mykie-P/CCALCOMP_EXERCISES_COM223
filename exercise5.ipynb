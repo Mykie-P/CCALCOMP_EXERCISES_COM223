{
  "cells": [
    {
      "cell_type": "markdown",
      "metadata": {
        "id": "view-in-github",
        "colab_type": "text"
      },
      "source": [
        "<a href=\"https://colab.research.google.com/github/Mykie-P/CCALCOMP_EXERCISES_COM223/blob/main/exercise5.ipynb\" target=\"_parent\"><img src=\"https://colab.research.google.com/assets/colab-badge.svg\" alt=\"Open In Colab\"/></a>"
      ]
    },
    {
      "cell_type": "markdown",
      "metadata": {
        "id": "-8bYOEC8HOQ4"
      },
      "source": [
        "# Exercise 5\n",
        "\n",
        "Please follow the instructions in each number."
      ]
    },
    {
      "cell_type": "markdown",
      "metadata": {
        "id": "FEPXLUAPHOQ6"
      },
      "source": [
        "### Maximum Subarray\n",
        "Given an array of integers nums, find the subarray with the largest sum and return the sum.\n",
        "\n",
        "A subarray is a contiguous non-empty sequence of elements within an array.\n",
        "\n",
        "\n",
        "\n",
        "Example 1:\n",
        "\n",
        "Input: nums = [2,-3,4,-2,2,1,-1,4]\n",
        "\n",
        "Output: 8\n",
        "\n",
        "Explanation: The subarray [4,-2,2,1,-1,4] has the largest sum 8."
      ]
    },
    {
      "cell_type": "markdown",
      "metadata": {
        "id": "D4a-4yS4HOQ7"
      },
      "source": [
        "## Tasks"
      ]
    },
    {
      "cell_type": "markdown",
      "metadata": {
        "id": "v8mlE6kYHOQ7"
      },
      "source": [
        "1. Put your student number in a list and manually compute the maximum subarray in your student number (`10 points`)"
      ]
    },
    {
      "cell_type": "markdown",
      "source": [
        "# Student Number: 2022 - 106589\n",
        "0\n",
        "\n",
        "current_sum = max(0, 2 + 0) = 2\n",
        "max_sum = max(2, 2) = 2\n",
        "\n",
        "2\n",
        "\n",
        "current_sum = max(2, 2 + 2) = 4\n",
        "max_sum = max(2, 4) = 4\n",
        "\n",
        "2\n",
        "\n",
        "current_sum = max(2, 4 + 2) = 6\n",
        "max_sum = max(4, 6) = 6\n",
        "\n",
        "1\n",
        "\n",
        "current_sum = max(1, 6 + 1) = 7\n",
        "max_sum = max(6, 7) = 7\n",
        "\n",
        "0\n",
        "\n",
        "current_sum = max(0, 7 + 0) = 7\n",
        "max_sum = max(7, 7) = 7\n",
        "\n",
        "6\n",
        "\n",
        "current_sum = max(6, 7 + 6) = 13\n",
        "max_sum = max(7, 13) = 13\n",
        "\n",
        "5\n",
        "\n",
        "current_sum = max(5, 13 + 5) = 18\n",
        "max_sum = max(13, 18) = 18\n",
        "\n",
        "8\n",
        "\n",
        "current_sum = max(8, 18 + 8) = 26\n",
        "max_sum = max(18, 26) = 26\n",
        "\n",
        "9\n",
        "\n",
        "current_sum = max(9, 26 + 9) = 35\n",
        "max_sum = max(26, 35) = 35\n",
        "\n",
        "\n",
        "# So, the maximum subarray sum is **35**"
      ],
      "metadata": {
        "id": "gffa2X5zIsHL"
      }
    },
    {
      "cell_type": "markdown",
      "metadata": {
        "id": "nchQgI2KHOQ8"
      },
      "source": [
        "2. Write a program using a brute-force approach to get the maximum-subarray of your student number (`40 points`)"
      ]
    },
    {
      "cell_type": "code",
      "execution_count": null,
      "metadata": {
        "vscode": {
          "languageId": "plaintext"
        },
        "id": "b9P6oe11HOQ9",
        "colab": {
          "base_uri": "https://localhost:8080/"
        },
        "outputId": "c19b9163-df3c-4467-c8fc-5e93a0dbd357"
      },
      "outputs": [
        {
          "output_type": "stream",
          "name": "stdout",
          "text": [
            "Brute-force approach: 35\n"
          ]
        }
      ],
      "source": [
        "# put your answer here\n",
        "\n",
        "def max_subarray_brute_force(nums):\n",
        "    max_sum = float('-inf')\n",
        "    n = len(nums)\n",
        "\n",
        "    for i in range(n):\n",
        "        for j in range(i, n):\n",
        "            current_sum = sum(nums[i:j+1])\n",
        "            if current_sum > max_sum:\n",
        "                max_sum = current_sum\n",
        "\n",
        "    return max_sum\n",
        "\n",
        "student_number = [2, 0, 2, 2, 1, 0, 6, 5, 8, 9]\n",
        "print(\"Brute-force approach:\", max_subarray_brute_force(student_number))"
      ]
    },
    {
      "cell_type": "markdown",
      "metadata": {
        "id": "NkqAxIx_HOQ9"
      },
      "source": [
        "3. Write a program using a dynamic programming to get the maximum-subarray of your student number (`50 points`)"
      ]
    },
    {
      "cell_type": "code",
      "execution_count": null,
      "metadata": {
        "vscode": {
          "languageId": "plaintext"
        },
        "id": "BFBp2ARLHOQ9",
        "colab": {
          "base_uri": "https://localhost:8080/"
        },
        "outputId": "960da7c4-2d6f-4ba4-ae93-77670cc18116"
      },
      "outputs": [
        {
          "output_type": "stream",
          "name": "stdout",
          "text": [
            "Kadane's algorithm: 35\n"
          ]
        }
      ],
      "source": [
        "# put your answer here\n",
        "\n",
        "def max_subarray_kadane(nums):\n",
        "    max_sum = current_sum = nums[0]\n",
        "\n",
        "    for num in nums[1:]:\n",
        "        current_sum = max(num, current_sum + num)\n",
        "        max_sum = max(max_sum, current_sum)\n",
        "\n",
        "    return max_sum\n",
        "\n",
        "student_number = [2, 0, 2, 2, 1, 0, 6, 5, 8, 9]\n",
        "print(\"Kadane's algorithm:\", max_subarray_kadane(student_number))"
      ]
    }
  ],
  "metadata": {
    "colab": {
      "provenance": [],
      "include_colab_link": true
    },
    "kernelspec": {
      "display_name": "base",
      "language": "python",
      "name": "python3"
    },
    "language_info": {
      "codemirror_mode": {
        "name": "ipython",
        "version": 3
      },
      "file_extension": ".py",
      "mimetype": "text/x-python",
      "name": "python",
      "nbconvert_exporter": "python",
      "pygments_lexer": "ipython3",
      "version": "3.9.6"
    }
  },
  "nbformat": 4,
  "nbformat_minor": 0
}