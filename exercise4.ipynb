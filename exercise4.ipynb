{
  "cells": [
    {
      "cell_type": "markdown",
      "metadata": {
        "id": "view-in-github",
        "colab_type": "text"
      },
      "source": [
        "<a href=\"https://colab.research.google.com/github/Mykie-P/CCALCOMP_EXERCISES_COM223/blob/main/exercise4.ipynb\" target=\"_parent\"><img src=\"https://colab.research.google.com/assets/colab-badge.svg\" alt=\"Open In Colab\"/></a>"
      ]
    },
    {
      "cell_type": "markdown",
      "metadata": {
        "id": "cPRRjBOhHHMh"
      },
      "source": [
        "# Exercise 4\n",
        "\n",
        "Please follow the instructions in each number."
      ]
    },
    {
      "cell_type": "markdown",
      "metadata": {
        "id": "zvDTNWRFHHMk"
      },
      "source": [
        "### Activity Selection Problem\n",
        "\n",
        "Given a set of activities, along with the starting and finishing time of each activity, find the maximum number of activities performed by a single person assuming that a person can only work on a single activity at a time.\n",
        "\n",
        "For example,\n",
        "\n",
        "Input: Following set of activities (1, 4), (3, 5), (0, 6), (5, 7), (3, 8), (5, 9), (6, 10), (8, 11), (8, 12), (2, 13), (12, 14)  \n",
        "\n",
        "Output: (1, 4), (5, 7), (8, 11), (12, 14)"
      ]
    },
    {
      "cell_type": "markdown",
      "metadata": {
        "id": "ff7w7YLGHHMl"
      },
      "source": [
        "## Tasks"
      ]
    },
    {
      "cell_type": "markdown",
      "metadata": {
        "id": "0QLHdoNSHHMl"
      },
      "source": [
        "1. Write a program using a recursive greedy approach to get the maximum number of activities (`50 points`)"
      ]
    },
    {
      "cell_type": "code",
      "execution_count": null,
      "metadata": {
        "vscode": {
          "languageId": "plaintext"
        },
        "id": "Xe02cHvAHHMl",
        "colab": {
          "base_uri": "https://localhost:8080/"
        },
        "outputId": "e270c8f7-cd7e-4095-c11a-78edf7670fc4"
      },
      "outputs": [
        {
          "output_type": "stream",
          "name": "stdout",
          "text": [
            "[(1, 4), (5, 7), (8, 11), (12, 14)]\n"
          ]
        }
      ],
      "source": [
        "# put your answer here\n",
        "\n",
        "def recursive_activity_selector(activities, start_index, n):\n",
        "    # Find the first activity in the sorted list that starts after the last selected activity ends\n",
        "    next_activity = start_index + 1\n",
        "    while next_activity < n and activities[next_activity][0] < activities[start_index][1]:\n",
        "        next_activity += 1\n",
        "\n",
        "    if next_activity >= n:\n",
        "        return []\n",
        "\n",
        "    # Recursively select the next activity\n",
        "    return [activities[next_activity]] + recursive_activity_selector(activities, next_activity, n)\n",
        "\n",
        "def get_max_activities_recursive(activities):\n",
        "    # Sort activities based on their finish times\n",
        "    activities.sort(key=lambda x: x[1])\n",
        "    # Always select the first activity\n",
        "    result = [activities[0]]\n",
        "    result += recursive_activity_selector(activities, 0, len(activities))\n",
        "    return result\n",
        "\n",
        "activities = [(1, 4), (3, 5), (0, 6), (5, 7), (3, 8), (5, 9), (6, 10), (8, 11), (8, 12), (2, 13), (12, 14)]\n",
        "max_activities_recursive = get_max_activities_recursive(activities)\n",
        "print(max_activities_recursive)\n"
      ]
    },
    {
      "cell_type": "markdown",
      "metadata": {
        "id": "eZe27u4LHHMn"
      },
      "source": [
        "2. Write a program using a iterative greedy approach to get the maximun number of activities (`50 points`)"
      ]
    },
    {
      "cell_type": "code",
      "execution_count": null,
      "metadata": {
        "vscode": {
          "languageId": "plaintext"
        },
        "id": "UrSZyQwEHHMn",
        "colab": {
          "base_uri": "https://localhost:8080/"
        },
        "outputId": "c15053f6-2b8b-464c-e9dd-fc40b16a9ab3"
      },
      "outputs": [
        {
          "output_type": "stream",
          "name": "stdout",
          "text": [
            "[(1, 4), (5, 7), (8, 11), (12, 14)]\n"
          ]
        }
      ],
      "source": [
        "# put your answer here\n",
        "\n",
        "def get_max_activities_iterative(activities):\n",
        "    # Sort activities based on their finish times\n",
        "    activities.sort(key=lambda x: x[1])\n",
        "\n",
        "    # Initialize the result list with the first activity\n",
        "    result = [activities[0]]\n",
        "    last_finish_time = activities[0][1]\n",
        "\n",
        "    # Iterate through the remaining activities\n",
        "    for i in range(1, len(activities)):\n",
        "\n",
        "        if activities[i][0] >= last_finish_time:\n",
        "            result.append(activities[i])\n",
        "            last_finish_time = activities[i][1]\n",
        "\n",
        "    return result\n",
        "\n",
        "# Example usage\n",
        "activities = [(1, 4), (3, 5), (0, 6), (5, 7), (3, 8), (5, 9), (6, 10), (8, 11), (8, 12), (2, 13), (12, 14)]\n",
        "max_activities_iterative = get_max_activities_iterative(activities)\n",
        "print(max_activities_iterative)\n"
      ]
    }
  ],
  "metadata": {
    "colab": {
      "provenance": [],
      "include_colab_link": true
    },
    "kernelspec": {
      "display_name": "base",
      "language": "python",
      "name": "python3"
    },
    "language_info": {
      "codemirror_mode": {
        "name": "ipython",
        "version": 3
      },
      "file_extension": ".py",
      "mimetype": "text/x-python",
      "name": "python",
      "nbconvert_exporter": "python",
      "pygments_lexer": "ipython3",
      "version": "3.9.6"
    }
  },
  "nbformat": 4,
  "nbformat_minor": 0
}