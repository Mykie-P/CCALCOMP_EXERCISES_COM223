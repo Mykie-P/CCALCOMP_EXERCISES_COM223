{
  "cells": [
    {
      "cell_type": "markdown",
      "metadata": {
        "colab_type": "text",
        "id": "view-in-github"
      },
      "source": [
        "<a href=\"https://colab.research.google.com/github/robitussin/CCALCOMP_EXERCISES/blob/main/exercise1.ipynb\" target=\"_parent\"><img src=\"https://colab.research.google.com/assets/colab-badge.svg\" alt=\"Open In Colab\"/></a>"
      ]
    },
    {
      "cell_type": "markdown",
      "metadata": {
        "id": "3-prKGbfwFRd"
      },
      "source": [
        "# Exercise 1"
      ]
    },
    {
      "cell_type": "markdown",
      "metadata": {
        "id": "kBW-_z9HwFRf"
      },
      "source": [
        "Please follow the instructions in each number. Do not remove or modify the pre-defined code!"
      ]
    },
    {
      "cell_type": "code",
      "execution_count": 175,
      "metadata": {
        "id": "ABAdD_ngwFRg"
      },
      "outputs": [],
      "source": [
        "# Add a vertex to the set of vertices and the graph\n",
        "def add_vertex(v):\n",
        "  global graph\n",
        "  global vertices_no\n",
        "  global vertices\n",
        "  if v in vertices:\n",
        "    print(\"Vertex \", v, \" already exists\")\n",
        "  else:\n",
        "    vertices_no = vertices_no + 1\n",
        "    vertices.append(v)\n",
        "    if vertices_no > 1:\n",
        "        for vertex in graph:\n",
        "            vertex.append(0)\n",
        "    temp = []\n",
        "    for i in range(vertices_no):\n",
        "        temp.append(0)\n",
        "    graph.append(temp)\n",
        "\n",
        "# Add an edge between vertex v1 and v2 with edge weight e\n",
        "def add_edge(v1, v2, e):\n",
        "    global graph\n",
        "    global vertices_no\n",
        "    global vertices\n",
        "    # Check if vertex v1 is a valid vertex\n",
        "    if v1 not in vertices:\n",
        "        print(\"Vertex \", v1, \" does not exist.\")\n",
        "    # Check if vertex v1 is a valid vertex\n",
        "    elif v2 not in vertices:\n",
        "        print(\"Vertex \", v2, \" does not exist.\")\n",
        "    # Since this code is not restricted to a directed or\n",
        "    # an undirected graph, an edge between v1 v2 does not\n",
        "    # imply that an edge exists between v2 and v1\n",
        "    else:\n",
        "        index1 = vertices.index(v1)\n",
        "        index2 = vertices.index(v2)\n",
        "        graph[index1][index2] = e\n",
        "\n",
        "# Print the graph\n",
        "def print_graph():\n",
        "  global graph\n",
        "  global vertices_no\n",
        "  for i in range(vertices_no):\n",
        "    for j in range(vertices_no):\n",
        "      if graph[i][j] != 0:\n",
        "        print(vertices[i], \" -> \", vertices[j],\n",
        "              \" edge weight: \", graph[i][j])"
      ]
    },
    {
      "cell_type": "code",
      "execution_count": 176,
      "metadata": {
        "id": "912w9tR0wFRh"
      },
      "outputs": [],
      "source": [
        "# stores the vertices in the graph\n",
        "vertices = []\n",
        "# stores the number of vertices in the graph\n",
        "vertices_no = 0\n",
        "graph = []"
      ]
    },
    {
      "cell_type": "markdown",
      "metadata": {
        "id": "lzkib3wYwFRh"
      },
      "source": [
        "<img src=\"https://github.com/robitussin/CCALCOMP_EXERCISES/blob/main/images/directed%20graph2.png?raw=true\"/>"
      ]
    },
    {
      "cell_type": "markdown",
      "metadata": {
        "id": "Qfh-2gbPwFRi"
      },
      "source": [
        "1. Print the edges and vertices of the graph in set representation. (`25 points`)"
      ]
    },
    {
      "cell_type": "code",
      "execution_count": 177,
      "metadata": {
        "id": "FSymqoxmwFRi"
      },
      "outputs": [
        {
          "name": "stdout",
          "output_type": "stream",
          "text": [
            "Vertices:\n",
            "['A', 'B', 'C', 'D', 'E']\n",
            "\n",
            "Edges:\n",
            "A  ->  B  edge weight:  10\n",
            "A  ->  C  edge weight:  12\n",
            "A  ->  D  edge weight:  60\n",
            "A  ->  E  edge weight:  7\n",
            "B  ->  C  edge weight:  20\n",
            "C  ->  D  edge weight:  32\n"
          ]
        }
      ],
      "source": [
        "# put your answer here\n",
        "\n",
        "add_vertex('A')\n",
        "add_vertex('B')\n",
        "add_vertex('C')\n",
        "add_vertex('D')\n",
        "add_vertex('E')\n",
        "\n",
        "add_edge('A', 'B', 10)\n",
        "add_edge('A', 'C', 12)\n",
        "add_edge('A', 'D', 60)\n",
        "add_edge('A', 'E', 7)\n",
        "add_edge('B', 'C', 20)\n",
        "add_edge('C', 'D', 32)\n",
        "\n",
        "print(\"Vertices:\")\n",
        "print(vertices)\n",
        "print(\"\\nEdges:\")\n",
        "print_graph()"
      ]
    },
    {
      "cell_type": "markdown",
      "metadata": {
        "id": "NHt6QEFzwFRi"
      },
      "source": [
        "2. Implement the weighted graph in python code. Use the print_graph() function. (`25 points`)"
      ]
    },
    {
      "cell_type": "code",
      "execution_count": 178,
      "metadata": {
        "id": "fcYP9VF9wFRj"
      },
      "outputs": [
        {
          "name": "stdout",
          "output_type": "stream",
          "text": [
            "Vertices:\n",
            "['A', 'B', 'C', 'D', 'E']\n",
            "\n",
            "Edges:\n",
            "A  ->  B  edge weight:  10\n",
            "A  ->  C  edge weight:  12\n",
            "A  ->  D  edge weight:  60\n",
            "A  ->  E  edge weight:  7\n",
            "B  ->  C  edge weight:  20\n",
            "C  ->  D  edge weight:  32\n"
          ]
        }
      ],
      "source": [
        "# put your answer here\n",
        "\n",
        "print(\"Vertices:\")\n",
        "print(vertices)\n",
        "print(\"\\nEdges:\")\n",
        "print_graph()"
      ]
    },
    {
      "cell_type": "markdown",
      "metadata": {
        "id": "kD-6afNTwFRj"
      },
      "source": [
        "3. You decided to go on a trip around the Philippines. Being a computer scientist, you wanted to find the optimal route that would cost the least amount of money to travel all four cities. Find the route and print the total cost of the most optimal route. (`50 points`)"
      ]
    },
    {
      "cell_type": "markdown",
      "metadata": {
        "id": "cBHIHSIewFRj"
      },
      "source": [
        "<img src=\"https://github.com/robitussin/CCALCOMP_EXERCISES/blob/main/images/trip.png?raw=true\" width=\"500\" height=\"600\"/>"
      ]
    },
    {
      "cell_type": "code",
      "execution_count": 179,
      "metadata": {
        "id": "yNwmvIXnwFRj"
      },
      "outputs": [
        {
          "name": "stdout",
          "output_type": "stream",
          "text": [
            "Optimal Route: Manila -> Tacloban -> Puerto Princesa -> Davao  -> Manila\n",
            "Total Cost: 11500\n"
          ]
        }
      ],
      "source": [
        "from itertools import permutations\n",
        "\n",
        "# stores the vertices in the graph\n",
        "vertices = [\"Manila\", \"Tacloban\", \"Davao\", \"Puerto Princesa\"]\n",
        "vertices_no = len(vertices)\n",
        "graph = {\n",
        "    \"Manila\": {\"Tacloban\": 1000, \"Davao\": 5000, \"Puerto Princesa\": 8000},\n",
        "    \"Tacloban\": {\"Manila\": 1000, \"Davao\": 2000, \"Puerto Princesa\": 1500},\n",
        "    \"Davao\": {\"Tacloban\": 2000, \"Puerto Princesa\": 4000, \"Manila\": 5000},\n",
        "    \"Puerto Princesa\": {\"Tacloban\": 1500, \"Davao\": 4000, \"Manila\": 8000},\n",
        "}\n",
        "\n",
        "min_cost = float('inf')\n",
        "optimal_path = []\n",
        "\n",
        "# Function to calculate the cost of a path\n",
        "def calculate_cost(path):\n",
        "    cost = 0\n",
        "    for i in range(vertices_no - 1):\n",
        "        cost += graph[path[i]][path[i + 1]]\n",
        "    cost += graph[path[-1]][path[0]]  # Return to the starting vertex\n",
        "    return cost\n",
        "\n",
        "# Brute-force approach to solve the TSP\n",
        "for path in permutations(vertices):\n",
        "    cost = calculate_cost(path)\n",
        "    if cost < min_cost:\n",
        "        min_cost = cost\n",
        "        optimal_path = path\n",
        "\n",
        "# Print the optimal route and total cost\n",
        "print(\"Optimal Route:\", \" -> \".join(optimal_path), \" -> Manila\")\n",
        "print(\"Total Cost:\", min_cost)\n"
      ]
    }
  ],
  "metadata": {
    "colab": {
      "include_colab_link": true,
      "provenance": []
    },
    "kernelspec": {
      "display_name": "base",
      "language": "python",
      "name": "python3"
    },
    "language_info": {
      "codemirror_mode": {
        "name": "ipython",
        "version": 3
      },
      "file_extension": ".py",
      "mimetype": "text/x-python",
      "name": "python",
      "nbconvert_exporter": "python",
      "pygments_lexer": "ipython3",
      "version": "3.11.5"
    }
  },
  "nbformat": 4,
  "nbformat_minor": 0
}
